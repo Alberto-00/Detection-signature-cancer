{
 "nbformat": 4,
 "nbformat_minor": 0,
 "metadata": {
  "colab": {
   "provenance": []
  },
  "kernelspec": {
   "name": "python3",
   "display_name": "Python 3"
  },
  "language_info": {
   "name": "python"
  }
 },
 "cells": [
  {
   "cell_type": "code",
   "source": [
    "import pandas as pd\n",
    "\n",
    "\n",
    "def count_total_variants(dataset, data_mutation):\n",
    "    # Conta il numero di occorrenze per ogni valore unico nella colonna 'Variant_Type' in 'data_mutations.csv'\n",
    "    conteggio_varianti = data_mutation['Variant_Type'].value_counts()\n",
    "\n",
    "    # Stampa i risultati\n",
    "    print(\"\\nConteggio delle varianti nel file 'data_mutations.csv':\")\n",
    "    print(conteggio_varianti)\n",
    "\n",
    "    print(\"\\nNumero totale di Features (Geni):\", len(dataset.columns[9:]))\n",
    "    print(\"Numero totale di Pazienti:\", len(dataset.iloc[:, 8]))\n"
   ],
   "metadata": {
    "id": "uqPCtLI_UJqo"
   },
   "execution_count": null,
   "outputs": []
  },
  {
   "cell_type": "code",
   "source": [
    "def prepare_new_columns(dataset):\n",
    "    dataset = dataset.dropna()\n",
    "    dataset = dataset.reset_index(drop=True)\n",
    "\n",
    "    # Copia le prime 9 colonne nel nuovo dataframe\n",
    "    data_final = dataset.iloc[:, :9].copy()\n",
    "    colonne_da_aggiungere = []\n",
    "\n",
    "    for colonna in dataset.columns[9:]:\n",
    "        colonne_da_aggiungere.append(pd.Series(dataset[colonna].values, name=colonna, index=data_final.index))\n",
    "        colonne_da_aggiungere.append(pd.Series(0, name=f'{colonna}_DEL', index=data_final.index))\n",
    "        colonne_da_aggiungere.append(pd.Series(0, name=f'{colonna}_DNP', index=data_final.index))\n",
    "        colonne_da_aggiungere.append(pd.Series(0, name=f'{colonna}_INS', index=data_final.index))\n",
    "        colonne_da_aggiungere.append(pd.Series(0, name=f'{colonna}_ONP', index=data_final.index))\n",
    "        colonne_da_aggiungere.append(pd.Series(0, name=f'{colonna}_SNP', index=data_final.index))\n",
    "        colonne_da_aggiungere.append(pd.Series(0, name=f'{colonna}_TNP', index=data_final.index))\n",
    "        colonne_da_aggiungere.append(pd.Series(0.0, name=f'{colonna}_CNA', index=data_final.index))\n",
    "\n",
    "    data_final = pd.concat([data_final] + colonne_da_aggiungere, axis=1)\n",
    "    return data_final\n"
   ],
   "metadata": {
    "id": "H8ILRjJKULEM"
   },
   "execution_count": null,
   "outputs": []
  },
  {
   "cell_type": "code",
   "source": [
    "def pre_process_cna(data_final, dataset, cna):\n",
    "    # Pre-processing 'data_cna.csv'\n",
    "    print(f\"\\nShape 'data_cna': {cna.shape}\")\n",
    "    colonne_interesse_data_cna = ['Hugo_Symbol'] + list(dataset['index'])\n",
    "    colonne_interesse_data_cna = [col for col in colonne_interesse_data_cna if col in cna.columns]\n",
    "    cna = cna[colonne_interesse_data_cna]\n",
    "\n",
    "    cna = cna[cna['Hugo_Symbol'].isin(dataset.columns[9:])]\n",
    "    cna = cna.reset_index(drop=True)\n",
    "\n",
    "    print(f\"New Shape 'data_cna.csv': {cna.shape}\")\n",
    "\n",
    "    # Add cna values in 'data_final'\n",
    "    patients = cna.columns[1:]\n",
    "    i = 0\n",
    "    for row in cna.itertuples():\n",
    "        gene = row.Hugo_Symbol\n",
    "        index = row.Index\n",
    "\n",
    "        for patient in patients:\n",
    "            cna_val = cna.at[index, patient]\n",
    "            if cna_val == '[Not Available]':\n",
    "                cna_val = 0\n",
    "\n",
    "            gene_cna = gene + '_CNA'\n",
    "            index_var = data_final.loc[data_final['index'] == patient].index[0]\n",
    "            data_final.at[index_var, gene_cna] = float(cna_val)\n",
    "\n",
    "        if i % 50 == 0:\n",
    "          print(i)\n",
    "        i += 1\n",
    "\n",
    "    data_final.to_csv('/content/drive/MyDrive/Bio/Dataset/nuovo.csv', index=False, sep=';')\n",
    "    print(\"Data_cna copy END!\")\n",
    "    return data_final\n"
   ],
   "metadata": {
    "id": "Y00_fcZtURVX"
   },
   "execution_count": null,
   "outputs": []
  },
  {
   "cell_type": "code",
   "source": [
    "def pre_process_mutations(data_final, dataset, data_mutation):\n",
    "    # Pre-processing 'data_mutations.csv'\n",
    "    colonne_interesse_data_mutations = ['Hugo_Symbol'] + ['Tumor_Sample_Barcode'] + ['Variant_Type']\n",
    "    data_variant = data_mutation[colonne_interesse_data_mutations]\n",
    "\n",
    "    data_variant = data_variant[data_variant['Hugo_Symbol'].isin(dataset.columns[9:])]\n",
    "    data_variant = data_variant[data_variant['Tumor_Sample_Barcode'].isin(dataset['index'])]\n",
    "    data_variant = data_variant.reset_index(drop=True)\n",
    "\n",
    "    print(f\"\\nShape 'data_mutations': {data_mutation.shape}\")\n",
    "    print(f\"New Shape 'data_mutations.csv': {data_variant.shape}\")\n",
    "    print(f\"New Shape without duplication in 'data_mutations.csv': \"\n",
    "          f\"{data_variant.drop_duplicates(subset=['Hugo_Symbol']).shape}\")\n",
    "\n",
    "    # Add variant_type in 'data_final'\n",
    "    for index, row in data_variant.iterrows():\n",
    "        gene = row['Hugo_Symbol']\n",
    "        patient = row['Tumor_Sample_Barcode']\n",
    "        variant_type = row['Variant_Type']\n",
    "\n",
    "        gene_var = gene + '_' + variant_type\n",
    "        index_var = data_final.loc[data_final['index'] == patient].index[0]\n",
    "        count_var = data_final.at[index_var, gene_var]\n",
    "        data_final.at[index_var, gene_var] = count_var + 1\n",
    "\n",
    "    data_final.to_csv('/content/drive/MyDrive/Bio/Dataset/nuovo.csv', index=False, sep=';')\n",
    "    print(\"Data_mutations copy END!\\n\")\n",
    "    return data_final\n"
   ],
   "metadata": {
    "id": "y8tboo2rUT4N"
   },
   "execution_count": null,
   "outputs": []
  },
  {
   "cell_type": "code",
   "execution_count": 1,
   "metadata": {
    "colab": {
     "base_uri": "https://localhost:8080/"
    },
    "id": "Jp0IaXlpDjyT",
    "outputId": "c060014e-0647-4c76-9a0d-739f6dde4f28"
   },
   "outputs": [
    {
     "output_type": "stream",
     "name": "stdout",
     "text": [
      "Lettura primo dataset...\n",
      "Lettura secondo dataset...\n",
      "Lettura terzo dataset...\n",
      "FINE Lettura Dataset!\n",
      "\n",
      "Conteggio delle varianti nel file 'data_mutations.csv':\n",
      "SNP    3538609\n",
      "DEL     170187\n",
      "INS      63697\n",
      "DNP       3753\n",
      "ONP        177\n",
      "TNP         42\n",
      "Name: Variant_Type, dtype: int64\n",
      "\n",
      "Numero totale di Features (Geni): 275\n",
      "Numero totale di Pazienti: 10126\n",
      "\n",
      "Shape 'data_cna': (31794, 10851)\n",
      "New Shape 'data_cna.csv': (251, 9837)\n",
      "0\n",
      "50\n",
      "100\n",
      "150\n",
      "200\n",
      "250\n",
      "Data_cna copy END!\n",
      "\n",
      "\n",
      "Shape 'data_mutations': (3776465, 10)\n",
      "New Shape 'data_mutations.csv': (51651, 3)\n",
      "\n",
      "New Shape without duplication in 'data_mutations.csv': (253, 3)\n",
      "Data_mutations copy END!\n"
     ]
    }
   ],
   "source": [
    "print(\"Lettura primo dataset...\")\n",
    "data = pd.read_csv('/content/drive/MyDrive/Bio/Dataset/data_mrna/deviazione_standard_dataPatient/data_mrna_v2_seq_rsem_trasposto_normalizzato_deviazione_0020_dataPatient.csv', delimiter=';')\n",
    "\n",
    "print(\"Lettura secondo dataset...\")\n",
    "data_mutations = pd.read_csv('/content/drive/MyDrive/Bio/Dataset/data_mutations.csv', delimiter=';')\n",
    "\n",
    "print(\"Lettura terzo dataset...\")\n",
    "data_cna = pd.read_csv('/content/drive/MyDrive/Bio/Dataset/data_cna.csv',\n",
    "                       delimiter=';', low_memory=False)\n",
    "\n",
    "print(\"FINE Lettura Dataset!\")\n",
    "\n",
    "count_total_variants(data, data_mutations)\n",
    "\n",
    "data_with_variants = prepare_new_columns(data)\n",
    "data_with_variants = pre_process_cna(data_with_variants, data, data_cna)\n",
    "data_with_variants = pre_process_mutations(data_with_variants, data, data_mutations)\n",
    "\n",
    "data_with_variants.to_csv('/content/drive/MyDrive/Bio/Dataset/nuovo.csv', index=False, sep=';')\n"
   ]
  }
 ]
}
